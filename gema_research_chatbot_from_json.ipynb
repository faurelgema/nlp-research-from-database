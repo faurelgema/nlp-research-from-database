{
  "cells": [
    {
      "cell_type": "code",
      "execution_count": 9,
      "metadata": {
        "colab": {
          "base_uri": "https://localhost:8080/"
        },
        "id": "akPFvTP8iTjF",
        "outputId": "16c7ff2e-be72-4809-ba86-0f86b40f8d19"
      },
      "outputs": [
        {
          "output_type": "stream",
          "name": "stderr",
          "text": [
            "[nltk_data] Downloading package punkt to /root/nltk_data...\n",
            "[nltk_data]   Package punkt is already up-to-date!\n"
          ]
        },
        {
          "output_type": "stream",
          "name": "stdout",
          "text": [
            "Chatbot: Hello! I'm a simple chatbot. Ask me anything. Type 'quit' to exit.\n",
            "Anda: hai\n",
            "Chatbot: None\n",
            "Anda: hi\n",
            "Chatbot: None\n",
            "Anda: my name is gema\n",
            "Chatbot: Hi gema, how can I help you?\n",
            "Anda: how are you\n",
            "Chatbot: I am doing well, thank you!\n",
            "Anda: quit\n",
            "Chatbot: Goodbye! Have a great day.\n"
          ]
        }
      ],
      "source": [
        "#testing rule based\n",
        "import nltk\n",
        "from nltk.chat.util import Chat, reflections\n",
        "\n",
        "nltk.download('punkt')\n",
        "\n",
        "# Kita defined aturan-aturan untuk chatbot\n",
        "rules = [\n",
        "    (r'my name is (.*)', ('Hi %1, how can I help you?', 'Hello %1! What can I do for you?')),\n",
        "    (r'(.*) your name?', ('I am a chatbot.',)),\n",
        "    (r'how are you(.*)', ('I am doing well, thank you!', 'I am just a computer program, but I am functioning properly.')),\n",
        "    (r'(.*) (help|assist|support)(.*)', ('I can assist you with various questions. Please ask me something specific.',)),\n",
        "    (r'quit', ('Goodbye! Feel free to return if you have more questions.',))\n",
        "]\n",
        "\n",
        "# Panggil chat library\n",
        "chatbot = Chat(rules, reflections)\n",
        "\n",
        "# Fungsi untuk berinteraksi dengan chatbot\n",
        "def chat():\n",
        "    print(\"Chatbot: Hello! I'm a simple chatbot. Ask me anything. Type 'quit' to exit.\")\n",
        "\n",
        "    while True:\n",
        "        pertanyaan = input(\"Anda: \")\n",
        "\n",
        "        if pertanyaan.lower() == 'quit':\n",
        "            print(\"Chatbot: Goodbye! Have a great day.\")\n",
        "            break\n",
        "\n",
        "        jawaban = chatbot.respond(pertanyaan)\n",
        "        print(f\"Chatbot: {jawaban}\")\n",
        "\n",
        "if __name__ == \"__main__\":\n",
        "    chat()\n",
        "\n",
        "# Cuma tes beberapa model kata dan kalimat yang bakal digunakan buat tanya jawab."
      ]
    },
    {
      "cell_type": "code",
      "execution_count": 3,
      "metadata": {
        "colab": {
          "base_uri": "https://localhost:8080/",
          "height": 810
        },
        "id": "p452Owv8iTjH",
        "outputId": "e9ef7dc0-c1d3-46ce-ce51-82ebfb781464"
      },
      "outputs": [
        {
          "output_type": "stream",
          "name": "stderr",
          "text": [
            "[nltk_data] Downloading package punkt to /root/nltk_data...\n",
            "[nltk_data]   Unzipping tokenizers/punkt.zip.\n",
            "[nltk_data] Downloading package stopwords to /root/nltk_data...\n",
            "[nltk_data]   Unzipping corpora/stopwords.zip.\n"
          ]
        },
        {
          "output_type": "stream",
          "name": "stdout",
          "text": [
            "Chatbot: Halo! Saya adalah chatbot sederhana. Ada yang bisa saya bantu?\n",
            "Anda: halo\n",
            "Chatbot: Hai!\n",
            "Chatbot: Apakah ada yang lain yang bisa saya bantu? (ya/tidak): ya\n",
            "Anda: aku ingin mencari samsung\n",
            "Chatbot: Hai!\n",
            "Chatbot: Apakah ada yang lain yang bisa saya bantu? (ya/tidak): ya\n",
            "Anda: produk termahal\n",
            "Chatbot: Hai!\n",
            "Chatbot: Apakah ada yang lain yang bisa saya bantu? (ya/tidak): ya\n",
            "Anda: barang\n",
            "Chatbot: Selamat datang!\n",
            "Chatbot: Apakah ada yang lain yang bisa saya bantu? (ya/tidak): ya\n",
            "Anda: harga\n",
            "Chatbot: Produk termahal: Smart TV Sony Bravia A8H - Harga: Rp 25,000,000\n",
            "Produk termurah: External SSD Samsung T7 - Harga: Rp 900,000\n",
            "Chatbot: Apakah ada yang lain yang bisa saya bantu? (ya/tidak): ya\n",
            "Anda: lokasi\n",
            "Chatbot: Di lokasi mana Anda mencari produk? bandung\n",
            "Chatbot: Berikut beberapa produk di bandung\n",
            "1. Smart TV LG OLED CX - Harga: Rp 22,000,000\n"
          ]
        },
        {
          "output_type": "error",
          "ename": "KeyboardInterrupt",
          "evalue": "Interrupted by user",
          "traceback": [
            "\u001b[0;31m---------------------------------------------------------------------------\u001b[0m",
            "\u001b[0;31mKeyboardInterrupt\u001b[0m                         Traceback (most recent call last)",
            "\u001b[0;32m<ipython-input-3-7ef802987416>\u001b[0m in \u001b[0;36m<cell line: 69>\u001b[0;34m()\u001b[0m\n\u001b[1;32m     68\u001b[0m \u001b[0;34m\u001b[0m\u001b[0m\n\u001b[1;32m     69\u001b[0m \u001b[0;32mif\u001b[0m \u001b[0m__name__\u001b[0m \u001b[0;34m==\u001b[0m \u001b[0;34m\"__main__\"\u001b[0m\u001b[0;34m:\u001b[0m\u001b[0;34m\u001b[0m\u001b[0;34m\u001b[0m\u001b[0m\n\u001b[0;32m---> 70\u001b[0;31m     \u001b[0mchat\u001b[0m\u001b[0;34m(\u001b[0m\u001b[0;34m)\u001b[0m\u001b[0;34m\u001b[0m\u001b[0;34m\u001b[0m\u001b[0m\n\u001b[0m",
            "\u001b[0;32m<ipython-input-3-7ef802987416>\u001b[0m in \u001b[0;36mchat\u001b[0;34m()\u001b[0m\n\u001b[1;32m     62\u001b[0m             \u001b[0mprint\u001b[0m\u001b[0;34m(\u001b[0m\u001b[0;34m\"Chatbot:\"\u001b[0m\u001b[0;34m,\u001b[0m \u001b[0mrespond_to_greeting\u001b[0m\u001b[0;34m(\u001b[0m\u001b[0;34m)\u001b[0m\u001b[0;34m)\u001b[0m\u001b[0;34m\u001b[0m\u001b[0;34m\u001b[0m\u001b[0m\n\u001b[1;32m     63\u001b[0m \u001b[0;34m\u001b[0m\u001b[0m\n\u001b[0;32m---> 64\u001b[0;31m         \u001b[0mlanjut\u001b[0m \u001b[0;34m=\u001b[0m \u001b[0minput\u001b[0m\u001b[0;34m(\u001b[0m\u001b[0;34m\"Chatbot: Apakah ada yang lain yang bisa saya bantu? (ya/tidak): \"\u001b[0m\u001b[0;34m)\u001b[0m\u001b[0;34m\u001b[0m\u001b[0;34m\u001b[0m\u001b[0m\n\u001b[0m\u001b[1;32m     65\u001b[0m         \u001b[0;32mif\u001b[0m \u001b[0mlanjut\u001b[0m\u001b[0;34m.\u001b[0m\u001b[0mlower\u001b[0m\u001b[0;34m(\u001b[0m\u001b[0;34m)\u001b[0m \u001b[0;34m!=\u001b[0m \u001b[0;34m'ya'\u001b[0m\u001b[0;34m:\u001b[0m\u001b[0;34m\u001b[0m\u001b[0;34m\u001b[0m\u001b[0m\n\u001b[1;32m     66\u001b[0m             \u001b[0mprint\u001b[0m\u001b[0;34m(\u001b[0m\u001b[0;34m\"Chatbot: Terima kasih telah berbicara dengan saya. Sampai jumpa!\"\u001b[0m\u001b[0;34m)\u001b[0m\u001b[0;34m\u001b[0m\u001b[0;34m\u001b[0m\u001b[0m\n",
            "\u001b[0;32m/usr/local/lib/python3.10/dist-packages/ipykernel/kernelbase.py\u001b[0m in \u001b[0;36mraw_input\u001b[0;34m(self, prompt)\u001b[0m\n\u001b[1;32m    849\u001b[0m                 \u001b[0;34m\"raw_input was called, but this frontend does not support input requests.\"\u001b[0m\u001b[0;34m\u001b[0m\u001b[0;34m\u001b[0m\u001b[0m\n\u001b[1;32m    850\u001b[0m             )\n\u001b[0;32m--> 851\u001b[0;31m         return self._input_request(str(prompt),\n\u001b[0m\u001b[1;32m    852\u001b[0m             \u001b[0mself\u001b[0m\u001b[0;34m.\u001b[0m\u001b[0m_parent_ident\u001b[0m\u001b[0;34m,\u001b[0m\u001b[0;34m\u001b[0m\u001b[0;34m\u001b[0m\u001b[0m\n\u001b[1;32m    853\u001b[0m             \u001b[0mself\u001b[0m\u001b[0;34m.\u001b[0m\u001b[0m_parent_header\u001b[0m\u001b[0;34m,\u001b[0m\u001b[0;34m\u001b[0m\u001b[0;34m\u001b[0m\u001b[0m\n",
            "\u001b[0;32m/usr/local/lib/python3.10/dist-packages/ipykernel/kernelbase.py\u001b[0m in \u001b[0;36m_input_request\u001b[0;34m(self, prompt, ident, parent, password)\u001b[0m\n\u001b[1;32m    893\u001b[0m             \u001b[0;32mexcept\u001b[0m \u001b[0mKeyboardInterrupt\u001b[0m\u001b[0;34m:\u001b[0m\u001b[0;34m\u001b[0m\u001b[0;34m\u001b[0m\u001b[0m\n\u001b[1;32m    894\u001b[0m                 \u001b[0;31m# re-raise KeyboardInterrupt, to truncate traceback\u001b[0m\u001b[0;34m\u001b[0m\u001b[0;34m\u001b[0m\u001b[0m\n\u001b[0;32m--> 895\u001b[0;31m                 \u001b[0;32mraise\u001b[0m \u001b[0mKeyboardInterrupt\u001b[0m\u001b[0;34m(\u001b[0m\u001b[0;34m\"Interrupted by user\"\u001b[0m\u001b[0;34m)\u001b[0m \u001b[0;32mfrom\u001b[0m \u001b[0;32mNone\u001b[0m\u001b[0;34m\u001b[0m\u001b[0;34m\u001b[0m\u001b[0m\n\u001b[0m\u001b[1;32m    896\u001b[0m             \u001b[0;32mexcept\u001b[0m \u001b[0mException\u001b[0m \u001b[0;32mas\u001b[0m \u001b[0me\u001b[0m\u001b[0;34m:\u001b[0m\u001b[0;34m\u001b[0m\u001b[0;34m\u001b[0m\u001b[0m\n\u001b[1;32m    897\u001b[0m                 \u001b[0mself\u001b[0m\u001b[0;34m.\u001b[0m\u001b[0mlog\u001b[0m\u001b[0;34m.\u001b[0m\u001b[0mwarning\u001b[0m\u001b[0;34m(\u001b[0m\u001b[0;34m\"Invalid Message:\"\u001b[0m\u001b[0;34m,\u001b[0m \u001b[0mexc_info\u001b[0m\u001b[0;34m=\u001b[0m\u001b[0;32mTrue\u001b[0m\u001b[0;34m)\u001b[0m\u001b[0;34m\u001b[0m\u001b[0;34m\u001b[0m\u001b[0m\n",
            "\u001b[0;31mKeyboardInterrupt\u001b[0m: Interrupted by user"
          ]
        }
      ],
      "source": [
        "#Menggunakan pendekatan rule based\n",
        "\n",
        "import json\n",
        "import nltk\n",
        "import random\n",
        "from nltk.tokenize import word_tokenize\n",
        "from nltk.corpus import stopwords\n",
        "\n",
        "nltk.download('punkt')\n",
        "nltk.download('stopwords')\n",
        "\n",
        "# Load dataset dari file JSON\n",
        "with open('/content/contoh-barang.json', 'r') as file:\n",
        "    dataset = json.load(file)\n",
        "\n",
        "# Hapus stopwords dari dataset untuk meningkatkan hasil pencarian\n",
        "stop_words = set(stopwords.words('indonesian'))\n",
        "for produk in dataset['barang']:\n",
        "    produk['nama_tokens'] = [word.lower() for word in word_tokenize(produk['nama']) if word.lower() not in stop_words]\n",
        "\n",
        "# Fungsi untuk mencari rekomendasi produk berdasarkan kata kunci\n",
        "def cari_rekomendasi(kata_kunci):\n",
        "    kata_kunci_tokens = [word.lower() for word in word_tokenize(kata_kunci) if word.lower() not in stop_words]\n",
        "\n",
        "    rekomendasi = []\n",
        "    for produk in dataset['barang']:\n",
        "        if any(token in produk['nama_tokens'] for token in kata_kunci_tokens):\n",
        "            rekomendasi.append(produk)\n",
        "    return rekomendasi\n",
        "\n",
        "# Fungsi untuk merespons pertanyaan umum atau sapaan\n",
        "def respond_to_greeting():\n",
        "    pesan_sapaan = [\"Halo!\", \"Hai!\", \"Selamat datang!\", \"Apa kabar?\"]\n",
        "    return pesan_sapaan[random.randint(0, len(pesan_sapaan) - 1)]\n",
        "\n",
        "# Fungsi untuk merespons pertanyaan terkait harga\n",
        "def respond_to_price_question():\n",
        "    produk_termahal = max(dataset['barang'], key=lambda x: x['harga'])\n",
        "    produk_termurah = min(dataset['barang'], key=lambda x: x['harga'])\n",
        "    return f\"Produk termahal: {produk_termahal['nama']} - Harga: Rp {produk_termahal['harga']:,}\\nProduk termurah: {produk_termurah['nama']} - Harga: Rp {produk_termurah['harga']:,}\"\n",
        "\n",
        "# Fungsi untuk memberikan rekomendasi berdasarkan lokasi\n",
        "def recommend_by_location(lokasi):\n",
        "    hasil_rekomendasi = [produk for produk in dataset['barang'] if lokasi.lower() == produk['lokasi'].lower()]\n",
        "    return hasil_rekomendasi\n",
        "\n",
        "# Fungsi untuk berinteraksi dengan chatbot\n",
        "def chat():\n",
        "    print(\"Chatbot: Halo! Saya adalah chatbot sederhana. Ada yang bisa saya bantu?\")\n",
        "\n",
        "    while True:\n",
        "        pertanyaan = input(\"Anda: \")\n",
        "\n",
        "        if \"harga\" in pertanyaan.lower():\n",
        "            print(\"Chatbot:\", respond_to_price_question())\n",
        "        elif \"lokasi\" in pertanyaan.lower():\n",
        "            lokasi = input(\"Chatbot: Di lokasi mana Anda mencari produk? \")\n",
        "            print(\"Chatbot: Berikut beberapa produk di\", lokasi)\n",
        "            rekomendasi_lokasi = recommend_by_location(lokasi)\n",
        "            for i, produk in enumerate(rekomendasi_lokasi, start=1):\n",
        "                print(f\"{i}. {produk['nama']} - Harga: Rp {produk['harga']:,}\")\n",
        "        else:\n",
        "            print(\"Chatbot:\", respond_to_greeting())\n",
        "\n",
        "        lanjut = input(\"Chatbot: Apakah ada yang lain yang bisa saya bantu? (ya/tidak): \")\n",
        "        if lanjut.lower() != 'ya':\n",
        "            print(\"Chatbot: Terima kasih telah berbicara dengan saya. Sampai jumpa!\")\n",
        "            break\n",
        "\n",
        "if __name__ == \"__main__\":\n",
        "    chat()\n",
        "\n",
        "# Kelebihan: 1. Sederhana, Lebih Mudah Dimengerti: Kode ini relatif sederhana dan mudah dimengerti. Ini memungkinkan untuk pemelajaran dan pengembangan lebih lanjut dengan cepat.\n",
        "# Kelebihan: 2. Lebih Mudah diatur: Pendekatan rule-based akan lebih mudah diatur mulai dari logika dan respons chatbot.\n",
        "# Kelebihan: 3. Responsif Terhadap Pertanyaan Khusus: Chatbot dapat merespons dengan baik terhadap pertanyaan tertentu seperti pertanyaan harga dan pertanyaan lokasi.\n",
        "\n",
        "# Kekurangan: 1. Terbatas pada Aturan yang Telah Didefinisikan: Chatbot ini hanya bisa merespons terhadap pertanyaan atau skenario yang sudah didefinisikan dalam aturan. Jika pertanyaan tidak sesuai dengan aturan yang ada, chatbot mungkin memberikan respons umum atau tidak dapat memberikan respons.\n",
        "# Kekurangan: 2. Keterbatasan Dalam Pemahaman Konteks yang Rumit: Chatbot ini cenderung tidak dapat memahami konteks atau pertanyaan yang lebih kompleks. Ini karena keterbatasan aturan yang telah didefinisikan dan tidak memiliki kemampuan untuk memahami konteks secara mendalam.\n",
        "# Kekurangan: 3. Tidak Dapat Belajar Secara Otomatis: Pendekatan rule-based tidak memungkinkan chatbot untuk belajar dari pengalaman atau data baru. Jika aturan tidak mencakup suatu skenario, chatbot tidak akan dapat meresponsnya dengan benar."
      ]
    },
    {
      "cell_type": "code",
      "execution_count": 8,
      "metadata": {
        "id": "nC_p8PAkiTjI",
        "colab": {
          "base_uri": "https://localhost:8080/",
          "height": 506
        },
        "outputId": "8a520d2f-2a94-474a-dd88-8e97266e87f1"
      },
      "outputs": [
        {
          "output_type": "stream",
          "name": "stdout",
          "text": [
            "Chatbot: Selamat datang! Saya siap membantu Anda menemukan produk. Silakan bertanya.\n",
            "Anda: cari produk\n",
            "Chatbot: Apakah ada yang lain yang bisa saya bantu? (ya/tidak): ya\n",
            "Anda: cari produk dengan \n",
            "Chatbot: Berdasarkan apa Anda ingin mencari produk? (misal: merek, kategori) lokasi\n",
            "Chatbot: Produk dengan lokasi apa yang sedang Anda cari? bandung\n",
            "Chatbot: Berikut beberapa produk yang sesuai:\n",
            "1. Smart TV LG OLED CX - Harga: Rp 22,000,000\n"
          ]
        },
        {
          "output_type": "error",
          "ename": "KeyboardInterrupt",
          "evalue": "Interrupted by user",
          "traceback": [
            "\u001b[0;31m---------------------------------------------------------------------------\u001b[0m",
            "\u001b[0;31mKeyboardInterrupt\u001b[0m                         Traceback (most recent call last)",
            "\u001b[0;32m<ipython-input-8-c70e4e4d93cb>\u001b[0m in \u001b[0;36m<cell line: 37>\u001b[0;34m()\u001b[0m\n\u001b[1;32m     36\u001b[0m \u001b[0;34m\u001b[0m\u001b[0m\n\u001b[1;32m     37\u001b[0m \u001b[0;32mif\u001b[0m \u001b[0m__name__\u001b[0m \u001b[0;34m==\u001b[0m \u001b[0;34m\"__main__\"\u001b[0m\u001b[0;34m:\u001b[0m\u001b[0;34m\u001b[0m\u001b[0;34m\u001b[0m\u001b[0m\n\u001b[0;32m---> 38\u001b[0;31m     \u001b[0mchat\u001b[0m\u001b[0;34m(\u001b[0m\u001b[0;34m)\u001b[0m\u001b[0;34m\u001b[0m\u001b[0;34m\u001b[0m\u001b[0m\n\u001b[0m",
            "\u001b[0;32m<ipython-input-8-c70e4e4d93cb>\u001b[0m in \u001b[0;36mchat\u001b[0;34m()\u001b[0m\n\u001b[1;32m     30\u001b[0m                 \u001b[0mprint\u001b[0m\u001b[0;34m(\u001b[0m\u001b[0;34m\"Chatbot: Maaf, saya tidak menemukan produk yang sesuai dengan pencarian Anda.\"\u001b[0m\u001b[0;34m)\u001b[0m\u001b[0;34m\u001b[0m\u001b[0;34m\u001b[0m\u001b[0m\n\u001b[1;32m     31\u001b[0m \u001b[0;34m\u001b[0m\u001b[0m\n\u001b[0;32m---> 32\u001b[0;31m         \u001b[0mlanjut\u001b[0m \u001b[0;34m=\u001b[0m \u001b[0minput\u001b[0m\u001b[0;34m(\u001b[0m\u001b[0;34m\"Chatbot: Apakah ada yang lain yang bisa saya bantu? (ya/tidak): \"\u001b[0m\u001b[0;34m)\u001b[0m\u001b[0;34m\u001b[0m\u001b[0;34m\u001b[0m\u001b[0m\n\u001b[0m\u001b[1;32m     33\u001b[0m         \u001b[0;32mif\u001b[0m \u001b[0mlanjut\u001b[0m\u001b[0;34m.\u001b[0m\u001b[0mlower\u001b[0m\u001b[0;34m(\u001b[0m\u001b[0;34m)\u001b[0m \u001b[0;34m!=\u001b[0m \u001b[0;34m'ya'\u001b[0m\u001b[0;34m:\u001b[0m\u001b[0;34m\u001b[0m\u001b[0;34m\u001b[0m\u001b[0m\n\u001b[1;32m     34\u001b[0m             \u001b[0mprint\u001b[0m\u001b[0;34m(\u001b[0m\u001b[0;34m\"Chatbot: Terima kasih telah menggunakan layanan kami. Sampai jumpa!\"\u001b[0m\u001b[0;34m)\u001b[0m\u001b[0;34m\u001b[0m\u001b[0;34m\u001b[0m\u001b[0m\n",
            "\u001b[0;32m/usr/local/lib/python3.10/dist-packages/ipykernel/kernelbase.py\u001b[0m in \u001b[0;36mraw_input\u001b[0;34m(self, prompt)\u001b[0m\n\u001b[1;32m    849\u001b[0m                 \u001b[0;34m\"raw_input was called, but this frontend does not support input requests.\"\u001b[0m\u001b[0;34m\u001b[0m\u001b[0;34m\u001b[0m\u001b[0m\n\u001b[1;32m    850\u001b[0m             )\n\u001b[0;32m--> 851\u001b[0;31m         return self._input_request(str(prompt),\n\u001b[0m\u001b[1;32m    852\u001b[0m             \u001b[0mself\u001b[0m\u001b[0;34m.\u001b[0m\u001b[0m_parent_ident\u001b[0m\u001b[0;34m,\u001b[0m\u001b[0;34m\u001b[0m\u001b[0;34m\u001b[0m\u001b[0m\n\u001b[1;32m    853\u001b[0m             \u001b[0mself\u001b[0m\u001b[0;34m.\u001b[0m\u001b[0m_parent_header\u001b[0m\u001b[0;34m,\u001b[0m\u001b[0;34m\u001b[0m\u001b[0;34m\u001b[0m\u001b[0m\n",
            "\u001b[0;32m/usr/local/lib/python3.10/dist-packages/ipykernel/kernelbase.py\u001b[0m in \u001b[0;36m_input_request\u001b[0;34m(self, prompt, ident, parent, password)\u001b[0m\n\u001b[1;32m    893\u001b[0m             \u001b[0;32mexcept\u001b[0m \u001b[0mKeyboardInterrupt\u001b[0m\u001b[0;34m:\u001b[0m\u001b[0;34m\u001b[0m\u001b[0;34m\u001b[0m\u001b[0m\n\u001b[1;32m    894\u001b[0m                 \u001b[0;31m# re-raise KeyboardInterrupt, to truncate traceback\u001b[0m\u001b[0;34m\u001b[0m\u001b[0;34m\u001b[0m\u001b[0m\n\u001b[0;32m--> 895\u001b[0;31m                 \u001b[0;32mraise\u001b[0m \u001b[0mKeyboardInterrupt\u001b[0m\u001b[0;34m(\u001b[0m\u001b[0;34m\"Interrupted by user\"\u001b[0m\u001b[0;34m)\u001b[0m \u001b[0;32mfrom\u001b[0m \u001b[0;32mNone\u001b[0m\u001b[0;34m\u001b[0m\u001b[0;34m\u001b[0m\u001b[0m\n\u001b[0m\u001b[1;32m    896\u001b[0m             \u001b[0;32mexcept\u001b[0m \u001b[0mException\u001b[0m \u001b[0;32mas\u001b[0m \u001b[0me\u001b[0m\u001b[0;34m:\u001b[0m\u001b[0;34m\u001b[0m\u001b[0;34m\u001b[0m\u001b[0m\n\u001b[1;32m    897\u001b[0m                 \u001b[0mself\u001b[0m\u001b[0;34m.\u001b[0m\u001b[0mlog\u001b[0m\u001b[0;34m.\u001b[0m\u001b[0mwarning\u001b[0m\u001b[0;34m(\u001b[0m\u001b[0;34m\"Invalid Message:\"\u001b[0m\u001b[0;34m,\u001b[0m \u001b[0mexc_info\u001b[0m\u001b[0;34m=\u001b[0m\u001b[0;32mTrue\u001b[0m\u001b[0;34m)\u001b[0m\u001b[0;34m\u001b[0m\u001b[0;34m\u001b[0m\u001b[0m\n",
            "\u001b[0;31mKeyboardInterrupt\u001b[0m: Interrupted by user"
          ]
        }
      ],
      "source": [
        "# Menggunakan Metode logic sederhana\n",
        "import json\n",
        "\n",
        "# Load dataset dari file JSON\n",
        "with open('/content/contoh-barang.json', 'r') as file:\n",
        "    dataset = json.load(file)\n",
        "\n",
        "# Fungsi untuk mencari produk berdasarkan atribut tertentu\n",
        "def cari_produk_berdasarkan_atribut(atribut, nilai):\n",
        "    hasil_pencarian = [produk for produk in dataset['barang'] if nilai.lower() in produk[atribut].lower()]\n",
        "    return hasil_pencarian\n",
        "\n",
        "# Fungsi untuk berinteraksi dengan chatbot\n",
        "def chat():\n",
        "    print(\"Chatbot: Selamat datang! Saya siap membantu Anda menemukan produk. Silakan bertanya.\")\n",
        "\n",
        "    while True:\n",
        "        pertanyaan = input(\"Anda: \")\n",
        "\n",
        "        if \"cari produk dengan\" in pertanyaan.lower():\n",
        "            atribut = input(\"Chatbot: Berdasarkan apa Anda ingin mencari produk? (misal: merek, kategori) \")\n",
        "            nilai = input(f\"Chatbot: Produk dengan {atribut} apa yang sedang Anda cari? \")\n",
        "\n",
        "            hasil_pencarian = cari_produk_berdasarkan_atribut(atribut, nilai)\n",
        "\n",
        "            if hasil_pencarian:\n",
        "                print(\"Chatbot: Berikut beberapa produk yang sesuai:\")\n",
        "                for i, produk in enumerate(hasil_pencarian, start=1):\n",
        "                    print(f\"{i}. {produk['nama']} - Harga: Rp {produk['harga']:,}\")\n",
        "            else:\n",
        "                print(\"Chatbot: Maaf, saya tidak menemukan produk yang sesuai dengan pencarian Anda.\")\n",
        "\n",
        "        lanjut = input(\"Chatbot: Apakah ada yang lain yang bisa saya bantu? (ya/tidak): \")\n",
        "        if lanjut.lower() != 'ya':\n",
        "            print(\"Chatbot: Terima kasih telah menggunakan layanan kami. Sampai jumpa!\")\n",
        "            break\n",
        "\n",
        "if __name__ == \"__main__\":\n",
        "    chat()\n"
      ]
    },
    {
      "cell_type": "code",
      "execution_count": 10,
      "metadata": {
        "id": "cBRIPTLWiTjI",
        "colab": {
          "base_uri": "https://localhost:8080/",
          "height": 935
        },
        "outputId": "f49c2852-a59e-4046-ad64-4b1e935b2944"
      },
      "outputs": [
        {
          "output_type": "stream",
          "name": "stderr",
          "text": [
            "[nltk_data] Downloading package punkt to /root/nltk_data...\n",
            "[nltk_data]   Package punkt is already up-to-date!\n",
            "[nltk_data] Downloading package stopwords to /root/nltk_data...\n",
            "[nltk_data]   Package stopwords is already up-to-date!\n"
          ]
        },
        {
          "name": "stdout",
          "output_type": "stream",
          "text": [
            "Chatbot: Selamat datang! Saya siap membantu Anda menemukan produk yang Anda cari.\n",
            "Anda: samsung\n",
            "Chatbot: Berikut beberapa produk yang mungkin Anda cari:\n",
            "1. Smartphone Samsung Galaxy S21 - Harga: Rp 12,000,000\n",
            "2. External SSD Samsung T7 - Harga: Rp 900,000\n",
            "3. Tablet Samsung Galaxy Tab S7+ - Harga: Rp 10,000,000\n",
            "4. Smartphone Samsung Galaxy Note 20 - Harga: Rp 15,000,000\n",
            "Chatbot: Apakah ada yang lain yang bisa saya bantu? (ya/tidak): ya\n",
            "Anda: saya ingin mencari ssd\n",
            "Chatbot: Berikut beberapa produk yang mungkin Anda cari:\n",
            "1. External SSD Samsung T7 - Harga: Rp 900,000\n",
            "Chatbot: Apakah ada yang lain yang bisa saya bantu? (ya/tidak): ya\n",
            "Anda: apakah ada barang dengan lokasi di bandung\n",
            "Chatbot: Maaf, saya tidak menemukan produk yang sesuai dengan pencarian Anda.\n",
            "Chatbot: Apakah ada yang lain yang bisa saya bantu? (ya/tidak): ya\n",
            "Anda: apakah ada barang samsung galaxy\n",
            "Chatbot: Berikut beberapa produk yang mungkin Anda cari:\n",
            "1. Smartphone Samsung Galaxy S21 - Harga: Rp 12,000,000\n",
            "2. External SSD Samsung T7 - Harga: Rp 900,000\n",
            "3. Tablet Samsung Galaxy Tab S7+ - Harga: Rp 10,000,000\n",
            "4. Smartphone Samsung Galaxy Note 20 - Harga: Rp 15,000,000\n",
            "Chatbot: Apakah ada yang lain yang bisa saya bantu? (ya/tidak): ya\n",
            "Anda: lokasi di mana saja?\n",
            "Chatbot: Maaf, saya tidak menemukan produk yang sesuai dengan pencarian Anda.\n",
            "Chatbot: Apakah ada yang lain yang bisa saya bantu? (ya/tidak): ya\n",
            "Anda: semua barang dan lokasi\n",
            "Chatbot: Maaf, saya tidak menemukan produk yang sesuai dengan pencarian Anda.\n",
            "Chatbot: Apakah ada yang lain yang bisa saya bantu? (ya/tidak): ya\n"
          ]
        },
        {
          "output_type": "error",
          "ename": "KeyboardInterrupt",
          "evalue": "Interrupted by user",
          "traceback": [
            "\u001b[0;31m---------------------------------------------------------------------------\u001b[0m",
            "\u001b[0;31mKeyboardInterrupt\u001b[0m                         Traceback (most recent call last)",
            "\u001b[0;32m<ipython-input-10-7ac3ff966094>\u001b[0m in \u001b[0;36m<cell line: 54>\u001b[0;34m()\u001b[0m\n\u001b[1;32m     53\u001b[0m \u001b[0;34m\u001b[0m\u001b[0m\n\u001b[1;32m     54\u001b[0m \u001b[0;32mif\u001b[0m \u001b[0m__name__\u001b[0m \u001b[0;34m==\u001b[0m \u001b[0;34m\"__main__\"\u001b[0m\u001b[0;34m:\u001b[0m\u001b[0;34m\u001b[0m\u001b[0;34m\u001b[0m\u001b[0m\n\u001b[0;32m---> 55\u001b[0;31m     \u001b[0mchat\u001b[0m\u001b[0;34m(\u001b[0m\u001b[0;34m)\u001b[0m\u001b[0;34m\u001b[0m\u001b[0;34m\u001b[0m\u001b[0m\n\u001b[0m",
            "\u001b[0;32m<ipython-input-10-7ac3ff966094>\u001b[0m in \u001b[0;36mchat\u001b[0;34m()\u001b[0m\n\u001b[1;32m     32\u001b[0m \u001b[0;34m\u001b[0m\u001b[0m\n\u001b[1;32m     33\u001b[0m     \u001b[0;32mwhile\u001b[0m \u001b[0;32mTrue\u001b[0m\u001b[0;34m:\u001b[0m\u001b[0;34m\u001b[0m\u001b[0;34m\u001b[0m\u001b[0m\n\u001b[0;32m---> 34\u001b[0;31m         \u001b[0mpertanyaan\u001b[0m \u001b[0;34m=\u001b[0m \u001b[0minput\u001b[0m\u001b[0;34m(\u001b[0m\u001b[0;34m\"Anda: \"\u001b[0m\u001b[0;34m)\u001b[0m\u001b[0;34m\u001b[0m\u001b[0;34m\u001b[0m\u001b[0m\n\u001b[0m\u001b[1;32m     35\u001b[0m \u001b[0;34m\u001b[0m\u001b[0m\n\u001b[1;32m     36\u001b[0m         \u001b[0mrekomendasi\u001b[0m \u001b[0;34m=\u001b[0m \u001b[0mcari_rekomendasi\u001b[0m\u001b[0;34m(\u001b[0m\u001b[0mpertanyaan\u001b[0m\u001b[0;34m)\u001b[0m\u001b[0;34m\u001b[0m\u001b[0;34m\u001b[0m\u001b[0m\n",
            "\u001b[0;32m/usr/local/lib/python3.10/dist-packages/ipykernel/kernelbase.py\u001b[0m in \u001b[0;36mraw_input\u001b[0;34m(self, prompt)\u001b[0m\n\u001b[1;32m    849\u001b[0m                 \u001b[0;34m\"raw_input was called, but this frontend does not support input requests.\"\u001b[0m\u001b[0;34m\u001b[0m\u001b[0;34m\u001b[0m\u001b[0m\n\u001b[1;32m    850\u001b[0m             )\n\u001b[0;32m--> 851\u001b[0;31m         return self._input_request(str(prompt),\n\u001b[0m\u001b[1;32m    852\u001b[0m             \u001b[0mself\u001b[0m\u001b[0;34m.\u001b[0m\u001b[0m_parent_ident\u001b[0m\u001b[0;34m,\u001b[0m\u001b[0;34m\u001b[0m\u001b[0;34m\u001b[0m\u001b[0m\n\u001b[1;32m    853\u001b[0m             \u001b[0mself\u001b[0m\u001b[0;34m.\u001b[0m\u001b[0m_parent_header\u001b[0m\u001b[0;34m,\u001b[0m\u001b[0;34m\u001b[0m\u001b[0;34m\u001b[0m\u001b[0m\n",
            "\u001b[0;32m/usr/local/lib/python3.10/dist-packages/ipykernel/kernelbase.py\u001b[0m in \u001b[0;36m_input_request\u001b[0;34m(self, prompt, ident, parent, password)\u001b[0m\n\u001b[1;32m    893\u001b[0m             \u001b[0;32mexcept\u001b[0m \u001b[0mKeyboardInterrupt\u001b[0m\u001b[0;34m:\u001b[0m\u001b[0;34m\u001b[0m\u001b[0;34m\u001b[0m\u001b[0m\n\u001b[1;32m    894\u001b[0m                 \u001b[0;31m# re-raise KeyboardInterrupt, to truncate traceback\u001b[0m\u001b[0;34m\u001b[0m\u001b[0;34m\u001b[0m\u001b[0m\n\u001b[0;32m--> 895\u001b[0;31m                 \u001b[0;32mraise\u001b[0m \u001b[0mKeyboardInterrupt\u001b[0m\u001b[0;34m(\u001b[0m\u001b[0;34m\"Interrupted by user\"\u001b[0m\u001b[0;34m)\u001b[0m \u001b[0;32mfrom\u001b[0m \u001b[0;32mNone\u001b[0m\u001b[0;34m\u001b[0m\u001b[0;34m\u001b[0m\u001b[0m\n\u001b[0m\u001b[1;32m    896\u001b[0m             \u001b[0;32mexcept\u001b[0m \u001b[0mException\u001b[0m \u001b[0;32mas\u001b[0m \u001b[0me\u001b[0m\u001b[0;34m:\u001b[0m\u001b[0;34m\u001b[0m\u001b[0;34m\u001b[0m\u001b[0m\n\u001b[1;32m    897\u001b[0m                 \u001b[0mself\u001b[0m\u001b[0;34m.\u001b[0m\u001b[0mlog\u001b[0m\u001b[0;34m.\u001b[0m\u001b[0mwarning\u001b[0m\u001b[0;34m(\u001b[0m\u001b[0;34m\"Invalid Message:\"\u001b[0m\u001b[0;34m,\u001b[0m \u001b[0mexc_info\u001b[0m\u001b[0;34m=\u001b[0m\u001b[0;32mTrue\u001b[0m\u001b[0;34m)\u001b[0m\u001b[0;34m\u001b[0m\u001b[0;34m\u001b[0m\u001b[0m\n",
            "\u001b[0;31mKeyboardInterrupt\u001b[0m: Interrupted by user"
          ]
        }
      ],
      "source": [
        "# Menggunnakan metode model nlp sederhana\n",
        "import json\n",
        "import nltk\n",
        "from nltk.tokenize import word_tokenize\n",
        "from nltk.corpus import stopwords\n",
        "\n",
        "# Install corpus untuk nltk jika belum ada\n",
        "nltk.download('punkt')\n",
        "nltk.download('stopwords')\n",
        "\n",
        "# Load dataset dari file JSON\n",
        "with open('/content/contoh-barang.json', 'r') as file:\n",
        "    dataset = json.load(file)\n",
        "\n",
        "# Hapus stopwords dari dataset untuk meningkatkan hasil pencarian\n",
        "stop_words = set(stopwords.words('indonesian'))\n",
        "for produk in dataset['barang']:\n",
        "    produk['nama_tokens'] = [word.lower() for word in word_tokenize(produk['nama']) if word.lower() not in stop_words]\n",
        "\n",
        "# Fungsi untuk mencari rekomendasi produk berdasarkan kata kunci\n",
        "def cari_rekomendasi(kata_kunci):\n",
        "    kata_kunci_tokens = [word.lower() for word in word_tokenize(kata_kunci) if word.lower() not in stop_words]\n",
        "\n",
        "    rekomendasi = []\n",
        "    for produk in dataset['barang']:\n",
        "        if any(token in produk['nama_tokens'] for token in kata_kunci_tokens):\n",
        "            rekomendasi.append(produk)\n",
        "    return rekomendasi\n",
        "\n",
        "# Fungsi untuk berinteraksi dengan chatbot\n",
        "def chat():\n",
        "    print(\"Chatbot: Selamat datang! Saya siap membantu Anda menemukan produk yang Anda cari.\")\n",
        "\n",
        "    while True:\n",
        "        pertanyaan = input(\"Anda: \")\n",
        "\n",
        "        rekomendasi = cari_rekomendasi(pertanyaan)\n",
        "\n",
        "        if rekomendasi:\n",
        "            print(\"Chatbot: Berikut beberapa produk yang mungkin Anda cari:\")\n",
        "            for i, produk in enumerate(rekomendasi, start=1):\n",
        "                print(f\"{i}. {produk['nama']} - Harga: Rp {produk['harga']:,}\")\n",
        "\n",
        "            lanjut = input(\"Chatbot: Apakah ada yang lain yang bisa saya bantu? (ya/tidak): \")\n",
        "            if lanjut.lower() != 'ya':\n",
        "                print(\"Chatbot: Terima kasih telah menggunakan layanan kami. Sampai jumpa!\")\n",
        "                break\n",
        "        else:\n",
        "            print(\"Chatbot: Maaf, saya tidak menemukan produk yang sesuai dengan pencarian Anda.\")\n",
        "            lanjut = input(\"Chatbot: Apakah ada yang lain yang bisa saya bantu? (ya/tidak): \")\n",
        "            if lanjut.lower() != 'ya':\n",
        "                print(\"Chatbot: Terima kasih telah menggunakan layanan kami. Sampai jumpa!\")\n",
        "                break\n",
        "\n",
        "if __name__ == \"__main__\":\n",
        "    chat()\n",
        "\n",
        "# Kelebihan Metode Model NLP Sederhana:\n",
        "# 1. Kemampuan Pemrosesan Neural Language (bahasa alami): Metode ini memanfaatkan pemrosesan bahasa alami (NLP) untuk memahami pertanyaan pengguna dengan lebih baik, terutama dalam hal pencarian produk berdasarkan kata kunci.\n",
        "# 2. Fleksibilitas dalam Pencarian: Model NLP memungkinkan pencarian yang lebih fleksibel karena dapat mencocokkan kata kunci dengan nama produk secara dinamis, tanpa perlu menentukan aturan khusus.\n",
        "# 3. Kemampuan Meningkatkan Hasil Pencarian: Pemrosesan bahasa alami memungkinkan untuk mencari produk berdasarkan makna kata, sehingga dapat meningkatkan hasil pencarian dan respons yang lebih relevan.\n",
        "\n",
        "\n",
        "# Kekurangan Metode Model NLP Sederhana:\n",
        "# 1. Keterbatasan Kompleksitas Pemahaman Konteks: Meskipun menggunakan NLP, model ini masih bersifat sederhana dan mungkin kesulitan memahami konteks yang sangat kompleks atau pertanyaan yang ambigu.\n",
        "# 2. Tergantung pada Kualitas Dataset dan Tokenisasi: Kualitas hasil pencarian sangat tergantung pada kualitas dataset dan tokenisasi kata. Jika dataset tidak mencakup banyak variasi atau tokenisasi tidak akurat, hasil pencarian dapat menjadi kurang memuaskan.\n",
        "\n",
        "\n",
        "# Lalu, apa bedanya NLKT yang digunakan NLP dan Rule based?\n",
        "# Bedanya: Dalam pendekatan rule-based, NLTK dapat digunakan untuk membuat aturan dan logika pemrosesan teks. Anda dapat menentukan aturan-aturan tertentu untuk merespons atau memproses teks berdasarkan pola atau kata kunci tertentu."
      ]
    }
  ],
  "metadata": {
    "kernelspec": {
      "display_name": "Python 3",
      "language": "python",
      "name": "python3"
    },
    "language_info": {
      "codemirror_mode": {
        "name": "ipython",
        "version": 3
      },
      "file_extension": ".py",
      "mimetype": "text/x-python",
      "name": "python",
      "nbconvert_exporter": "python",
      "pygments_lexer": "ipython3",
      "version": "3.7.3"
    },
    "colab": {
      "provenance": []
    }
  },
  "nbformat": 4,
  "nbformat_minor": 0
}